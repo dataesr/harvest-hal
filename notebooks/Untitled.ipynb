{
 "cells": [
  {
   "cell_type": "code",
   "execution_count": 77,
   "id": "ddce705f",
   "metadata": {},
   "outputs": [],
   "source": [
    "import requests\n",
    "from urllib.parse import quote_plus\n",
    "import json"
   ]
  },
  {
   "cell_type": "code",
   "execution_count": 97,
   "id": "e6082ba9",
   "metadata": {},
   "outputs": [
    {
     "name": "stdout",
     "output_type": "stream",
     "text": [
      "1990 0\n",
      "1990 250\n",
      "1990 500\n",
      "1990 750\n",
      "1990 1000\n",
      "1990 1250\n",
      "1990 1500\n",
      "1990 1675\n"
     ]
    }
   ],
   "source": [
    "year = 1990\n",
    "nb_rows = 250\n",
    "cursor='*'\n",
    "data = []\n",
    "while True:\n",
    "    url = f'https://api.archives-ouvertes.fr/search/?q=*:*&wt=json&fl=*&fq=submittedDateY_i:[{year}%20TO%20{year}]&sort=docid asc&rows={nb_rows}&cursorMark={cursor}'\n",
    "    r = requests.get(url)\n",
    "    res = r.json()\n",
    "    new_cursor = quote_plus(res['nextCursorMark'])\n",
    "    print(year, len(data))\n",
    "    data += res['response']['docs']\n",
    "    if new_cursor == cursor:\n",
    "        break\n",
    "    cursor = new_cursor"
   ]
  },
  {
   "cell_type": "code",
   "execution_count": 106,
   "id": "0883b230",
   "metadata": {},
   "outputs": [],
   "source": [
    "import json\n",
    "json.dump(data[0:5], open('xxx.json', 'w'))"
   ]
  },
  {
   "cell_type": "code",
   "execution_count": 108,
   "id": "8a210d7f",
   "metadata": {},
   "outputs": [
    {
     "data": {
      "text/html": [
       "<div>\n",
       "<style scoped>\n",
       "    .dataframe tbody tr th:only-of-type {\n",
       "        vertical-align: middle;\n",
       "    }\n",
       "\n",
       "    .dataframe tbody tr th {\n",
       "        vertical-align: top;\n",
       "    }\n",
       "\n",
       "    .dataframe thead th {\n",
       "        text-align: right;\n",
       "    }\n",
       "</style>\n",
       "<table border=\"1\" class=\"dataframe\">\n",
       "  <thead>\n",
       "    <tr style=\"text-align: right;\">\n",
       "      <th></th>\n",
       "      <th>docid</th>\n",
       "      <th>label_s</th>\n",
       "      <th>citationRef_s</th>\n",
       "      <th>citationFull_s</th>\n",
       "      <th>label_bibtex</th>\n",
       "      <th>label_endnote</th>\n",
       "      <th>label_coins</th>\n",
       "      <th>linkExtUrl_s</th>\n",
       "      <th>linkExtId_s</th>\n",
       "      <th>openAccess_bool</th>\n",
       "      <th>...</th>\n",
       "      <th>collCodeName_fs</th>\n",
       "      <th>collCategoryCodeName_fs</th>\n",
       "      <th>collNameCode_fs</th>\n",
       "      <th>fileMain_s</th>\n",
       "      <th>files_s</th>\n",
       "      <th>fileType_s</th>\n",
       "      <th>_version_</th>\n",
       "      <th>dateLastIndexed_tdate</th>\n",
       "      <th>label_xml</th>\n",
       "      <th>authEmailDomain_s</th>\n",
       "    </tr>\n",
       "  </thead>\n",
       "  <tbody>\n",
       "    <tr>\n",
       "      <th>0</th>\n",
       "      <td>212346</td>\n",
       "      <td>I.K. Robinson, E.H. Conrad, D.S. Reed. X-ray s...</td>\n",
       "      <td>&lt;i&gt;Journal de Physique&lt;/i&gt;, 1990, 51 (1), pp.1...</td>\n",
       "      <td>I.K. Robinson, E.H. Conrad, D.S. Reed. X-ray s...</td>\n",
       "      <td>@article{robinson:jpa-00212346,\\n  TITLE = {{X...</td>\n",
       "      <td>%0 Journal Article\\n%T X-ray study of the roug...</td>\n",
       "      <td>&lt;span class=\"Z3988\" title=\"ctx_ver=Z39.88-2004...</td>\n",
       "      <td>https://api.istex.fr/document/9E7D3521D7DDFC35...</td>\n",
       "      <td>istex</td>\n",
       "      <td>True</td>\n",
       "      <td>...</td>\n",
       "      <td>[AJP_FacetSep_Archive du Journal de Physique]</td>\n",
       "      <td>[REVUE_JoinSep_AJP_FacetSep_Archive du Journal...</td>\n",
       "      <td>[Archive du Journal de Physique_FacetSep_AJP]</td>\n",
       "      <td>https://hal.archives-ouvertes.fr/jpa-00212346/...</td>\n",
       "      <td>[https://hal.archives-ouvertes.fr/jpa-00212346...</td>\n",
       "      <td>[file]</td>\n",
       "      <td>1666270046024892416</td>\n",
       "      <td>2020-05-10T02:49:07.088Z</td>\n",
       "      <td>&lt;TEI xmlns=\"http://www.tei-c.org/ns/1.0\" xmlns...</td>\n",
       "      <td>NaN</td>\n",
       "    </tr>\n",
       "    <tr>\n",
       "      <th>1</th>\n",
       "      <td>212347</td>\n",
       "      <td>A. Pellegatti, F. Marinelli, J.-C. Mathieu. Pa...</td>\n",
       "      <td>&lt;i&gt;Journal de Physique&lt;/i&gt;, 1990, 51 (1), pp.1...</td>\n",
       "      <td>A. Pellegatti, F. Marinelli, J.-C. Mathieu. Pa...</td>\n",
       "      <td>@article{pellegatti:jpa-00212347,\\n  TITLE = {...</td>\n",
       "      <td>%0 Journal Article\\n%T Parabolic laws of the s...</td>\n",
       "      <td>&lt;span class=\"Z3988\" title=\"ctx_ver=Z39.88-2004...</td>\n",
       "      <td>https://api.istex.fr/document/3BEA0B1B2EB1F85F...</td>\n",
       "      <td>istex</td>\n",
       "      <td>True</td>\n",
       "      <td>...</td>\n",
       "      <td>[AJP_FacetSep_Archive du Journal de Physique]</td>\n",
       "      <td>[REVUE_JoinSep_AJP_FacetSep_Archive du Journal...</td>\n",
       "      <td>[Archive du Journal de Physique_FacetSep_AJP]</td>\n",
       "      <td>https://hal.archives-ouvertes.fr/jpa-00212347/...</td>\n",
       "      <td>[https://hal.archives-ouvertes.fr/jpa-00212347...</td>\n",
       "      <td>[file]</td>\n",
       "      <td>1666270046718001152</td>\n",
       "      <td>2020-05-10T02:49:07.751Z</td>\n",
       "      <td>&lt;TEI xmlns=\"http://www.tei-c.org/ns/1.0\" xmlns...</td>\n",
       "      <td>NaN</td>\n",
       "    </tr>\n",
       "    <tr>\n",
       "      <th>2</th>\n",
       "      <td>212348</td>\n",
       "      <td>Salvatore Cannistraro. Distribution of conform...</td>\n",
       "      <td>&lt;i&gt;Journal de Physique&lt;/i&gt;, 1990, 51 (1), pp.1...</td>\n",
       "      <td>Salvatore Cannistraro. Distribution of conform...</td>\n",
       "      <td>@article{cannistraro:jpa-00212348,\\n  TITLE = ...</td>\n",
       "      <td>%0 Journal Article\\n%T Distribution of conform...</td>\n",
       "      <td>&lt;span class=\"Z3988\" title=\"ctx_ver=Z39.88-2004...</td>\n",
       "      <td>http://hal.archives-ouvertes.fr/docs/00/21/23/...</td>\n",
       "      <td>openaccess</td>\n",
       "      <td>True</td>\n",
       "      <td>...</td>\n",
       "      <td>[AJP_FacetSep_Archive du Journal de Physique]</td>\n",
       "      <td>[REVUE_JoinSep_AJP_FacetSep_Archive du Journal...</td>\n",
       "      <td>[Archive du Journal de Physique_FacetSep_AJP]</td>\n",
       "      <td>https://hal.archives-ouvertes.fr/jpa-00212348/...</td>\n",
       "      <td>[https://hal.archives-ouvertes.fr/jpa-00212348...</td>\n",
       "      <td>[file]</td>\n",
       "      <td>1666270047287377920</td>\n",
       "      <td>2020-05-10T02:49:08.294Z</td>\n",
       "      <td>&lt;TEI xmlns=\"http://www.tei-c.org/ns/1.0\" xmlns...</td>\n",
       "      <td>NaN</td>\n",
       "    </tr>\n",
       "    <tr>\n",
       "      <th>3</th>\n",
       "      <td>212349</td>\n",
       "      <td>Nguyen Ba An. Intensity-dependent absorption c...</td>\n",
       "      <td>&lt;i&gt;Journal de Physique&lt;/i&gt;, 1990, 51 (1), pp.1...</td>\n",
       "      <td>Nguyen Ba An. Intensity-dependent absorption c...</td>\n",
       "      <td>@article{nguyenbaan:jpa-00212349,\\n  TITLE = {...</td>\n",
       "      <td>%0 Journal Article\\n%T Intensity-dependent abs...</td>\n",
       "      <td>&lt;span class=\"Z3988\" title=\"ctx_ver=Z39.88-2004...</td>\n",
       "      <td>https://api.istex.fr/document/CB43040D336D7F59...</td>\n",
       "      <td>istex</td>\n",
       "      <td>True</td>\n",
       "      <td>...</td>\n",
       "      <td>[AJP_FacetSep_Archive du Journal de Physique]</td>\n",
       "      <td>[REVUE_JoinSep_AJP_FacetSep_Archive du Journal...</td>\n",
       "      <td>[Archive du Journal de Physique_FacetSep_AJP]</td>\n",
       "      <td>https://hal.archives-ouvertes.fr/jpa-00212349/...</td>\n",
       "      <td>[https://hal.archives-ouvertes.fr/jpa-00212349...</td>\n",
       "      <td>[file]</td>\n",
       "      <td>1666270047734071296</td>\n",
       "      <td>2020-05-10T02:49:08.720Z</td>\n",
       "      <td>&lt;TEI xmlns=\"http://www.tei-c.org/ns/1.0\" xmlns...</td>\n",
       "      <td>NaN</td>\n",
       "    </tr>\n",
       "    <tr>\n",
       "      <th>4</th>\n",
       "      <td>212350</td>\n",
       "      <td>C. Godrèche, Christophe Oguey. Construction of...</td>\n",
       "      <td>&lt;i&gt;Journal de Physique&lt;/i&gt;, 1990, 51 (1), pp.2...</td>\n",
       "      <td>C. Godrèche, Christophe Oguey. Construction of...</td>\n",
       "      <td>@article{godreche:jpa-00212350,\\n  TITLE = {{C...</td>\n",
       "      <td>%0 Journal Article\\n%T Construction of average...</td>\n",
       "      <td>&lt;span class=\"Z3988\" title=\"ctx_ver=Z39.88-2004...</td>\n",
       "      <td>https://api.istex.fr/document/FDC71A597A32255A...</td>\n",
       "      <td>istex</td>\n",
       "      <td>True</td>\n",
       "      <td>...</td>\n",
       "      <td>[AJP_FacetSep_Archive du Journal de Physique]</td>\n",
       "      <td>[REVUE_JoinSep_AJP_FacetSep_Archive du Journal...</td>\n",
       "      <td>[Archive du Journal de Physique_FacetSep_AJP]</td>\n",
       "      <td>https://hal.archives-ouvertes.fr/jpa-00212350/...</td>\n",
       "      <td>[https://hal.archives-ouvertes.fr/jpa-00212350...</td>\n",
       "      <td>[file]</td>\n",
       "      <td>1666270048246824960</td>\n",
       "      <td>2020-05-10T02:49:09.208Z</td>\n",
       "      <td>&lt;TEI xmlns=\"http://www.tei-c.org/ns/1.0\" xmlns...</td>\n",
       "      <td>[ptm.u-cergy.fr]</td>\n",
       "    </tr>\n",
       "  </tbody>\n",
       "</table>\n",
       "<p>5 rows × 109 columns</p>\n",
       "</div>"
      ],
      "text/plain": [
       "    docid                                            label_s  \\\n",
       "0  212346  I.K. Robinson, E.H. Conrad, D.S. Reed. X-ray s...   \n",
       "1  212347  A. Pellegatti, F. Marinelli, J.-C. Mathieu. Pa...   \n",
       "2  212348  Salvatore Cannistraro. Distribution of conform...   \n",
       "3  212349  Nguyen Ba An. Intensity-dependent absorption c...   \n",
       "4  212350  C. Godrèche, Christophe Oguey. Construction of...   \n",
       "\n",
       "                                       citationRef_s  \\\n",
       "0  <i>Journal de Physique</i>, 1990, 51 (1), pp.1...   \n",
       "1  <i>Journal de Physique</i>, 1990, 51 (1), pp.1...   \n",
       "2  <i>Journal de Physique</i>, 1990, 51 (1), pp.1...   \n",
       "3  <i>Journal de Physique</i>, 1990, 51 (1), pp.1...   \n",
       "4  <i>Journal de Physique</i>, 1990, 51 (1), pp.2...   \n",
       "\n",
       "                                      citationFull_s  \\\n",
       "0  I.K. Robinson, E.H. Conrad, D.S. Reed. X-ray s...   \n",
       "1  A. Pellegatti, F. Marinelli, J.-C. Mathieu. Pa...   \n",
       "2  Salvatore Cannistraro. Distribution of conform...   \n",
       "3  Nguyen Ba An. Intensity-dependent absorption c...   \n",
       "4  C. Godrèche, Christophe Oguey. Construction of...   \n",
       "\n",
       "                                        label_bibtex  \\\n",
       "0  @article{robinson:jpa-00212346,\\n  TITLE = {{X...   \n",
       "1  @article{pellegatti:jpa-00212347,\\n  TITLE = {...   \n",
       "2  @article{cannistraro:jpa-00212348,\\n  TITLE = ...   \n",
       "3  @article{nguyenbaan:jpa-00212349,\\n  TITLE = {...   \n",
       "4  @article{godreche:jpa-00212350,\\n  TITLE = {{C...   \n",
       "\n",
       "                                       label_endnote  \\\n",
       "0  %0 Journal Article\\n%T X-ray study of the roug...   \n",
       "1  %0 Journal Article\\n%T Parabolic laws of the s...   \n",
       "2  %0 Journal Article\\n%T Distribution of conform...   \n",
       "3  %0 Journal Article\\n%T Intensity-dependent abs...   \n",
       "4  %0 Journal Article\\n%T Construction of average...   \n",
       "\n",
       "                                         label_coins  \\\n",
       "0  <span class=\"Z3988\" title=\"ctx_ver=Z39.88-2004...   \n",
       "1  <span class=\"Z3988\" title=\"ctx_ver=Z39.88-2004...   \n",
       "2  <span class=\"Z3988\" title=\"ctx_ver=Z39.88-2004...   \n",
       "3  <span class=\"Z3988\" title=\"ctx_ver=Z39.88-2004...   \n",
       "4  <span class=\"Z3988\" title=\"ctx_ver=Z39.88-2004...   \n",
       "\n",
       "                                        linkExtUrl_s linkExtId_s  \\\n",
       "0  https://api.istex.fr/document/9E7D3521D7DDFC35...       istex   \n",
       "1  https://api.istex.fr/document/3BEA0B1B2EB1F85F...       istex   \n",
       "2  http://hal.archives-ouvertes.fr/docs/00/21/23/...  openaccess   \n",
       "3  https://api.istex.fr/document/CB43040D336D7F59...       istex   \n",
       "4  https://api.istex.fr/document/FDC71A597A32255A...       istex   \n",
       "\n",
       "   openAccess_bool  ...                                collCodeName_fs  \\\n",
       "0             True  ...  [AJP_FacetSep_Archive du Journal de Physique]   \n",
       "1             True  ...  [AJP_FacetSep_Archive du Journal de Physique]   \n",
       "2             True  ...  [AJP_FacetSep_Archive du Journal de Physique]   \n",
       "3             True  ...  [AJP_FacetSep_Archive du Journal de Physique]   \n",
       "4             True  ...  [AJP_FacetSep_Archive du Journal de Physique]   \n",
       "\n",
       "                             collCategoryCodeName_fs  \\\n",
       "0  [REVUE_JoinSep_AJP_FacetSep_Archive du Journal...   \n",
       "1  [REVUE_JoinSep_AJP_FacetSep_Archive du Journal...   \n",
       "2  [REVUE_JoinSep_AJP_FacetSep_Archive du Journal...   \n",
       "3  [REVUE_JoinSep_AJP_FacetSep_Archive du Journal...   \n",
       "4  [REVUE_JoinSep_AJP_FacetSep_Archive du Journal...   \n",
       "\n",
       "                                 collNameCode_fs  \\\n",
       "0  [Archive du Journal de Physique_FacetSep_AJP]   \n",
       "1  [Archive du Journal de Physique_FacetSep_AJP]   \n",
       "2  [Archive du Journal de Physique_FacetSep_AJP]   \n",
       "3  [Archive du Journal de Physique_FacetSep_AJP]   \n",
       "4  [Archive du Journal de Physique_FacetSep_AJP]   \n",
       "\n",
       "                                          fileMain_s  \\\n",
       "0  https://hal.archives-ouvertes.fr/jpa-00212346/...   \n",
       "1  https://hal.archives-ouvertes.fr/jpa-00212347/...   \n",
       "2  https://hal.archives-ouvertes.fr/jpa-00212348/...   \n",
       "3  https://hal.archives-ouvertes.fr/jpa-00212349/...   \n",
       "4  https://hal.archives-ouvertes.fr/jpa-00212350/...   \n",
       "\n",
       "                                             files_s fileType_s  \\\n",
       "0  [https://hal.archives-ouvertes.fr/jpa-00212346...     [file]   \n",
       "1  [https://hal.archives-ouvertes.fr/jpa-00212347...     [file]   \n",
       "2  [https://hal.archives-ouvertes.fr/jpa-00212348...     [file]   \n",
       "3  [https://hal.archives-ouvertes.fr/jpa-00212349...     [file]   \n",
       "4  [https://hal.archives-ouvertes.fr/jpa-00212350...     [file]   \n",
       "\n",
       "             _version_     dateLastIndexed_tdate  \\\n",
       "0  1666270046024892416  2020-05-10T02:49:07.088Z   \n",
       "1  1666270046718001152  2020-05-10T02:49:07.751Z   \n",
       "2  1666270047287377920  2020-05-10T02:49:08.294Z   \n",
       "3  1666270047734071296  2020-05-10T02:49:08.720Z   \n",
       "4  1666270048246824960  2020-05-10T02:49:09.208Z   \n",
       "\n",
       "                                           label_xml authEmailDomain_s  \n",
       "0  <TEI xmlns=\"http://www.tei-c.org/ns/1.0\" xmlns...               NaN  \n",
       "1  <TEI xmlns=\"http://www.tei-c.org/ns/1.0\" xmlns...               NaN  \n",
       "2  <TEI xmlns=\"http://www.tei-c.org/ns/1.0\" xmlns...               NaN  \n",
       "3  <TEI xmlns=\"http://www.tei-c.org/ns/1.0\" xmlns...               NaN  \n",
       "4  <TEI xmlns=\"http://www.tei-c.org/ns/1.0\" xmlns...  [ptm.u-cergy.fr]  \n",
       "\n",
       "[5 rows x 109 columns]"
      ]
     },
     "execution_count": 108,
     "metadata": {},
     "output_type": "execute_result"
    }
   ],
   "source": [
    "import pandas as pd\n",
    "pd.read_json('xxx.json')"
   ]
  },
  {
   "cell_type": "code",
   "execution_count": 103,
   "id": "a4f65b7d",
   "metadata": {},
   "outputs": [
    {
     "ename": "NameError",
     "evalue": "name 'json' is not defined",
     "output_type": "error",
     "traceback": [
      "\u001b[0;31m---------------------------------------------------------------------------\u001b[0m",
      "\u001b[0;31mNameError\u001b[0m                                 Traceback (most recent call last)",
      "\u001b[0;32m<ipython-input-103-e359d2f58363>\u001b[0m in \u001b[0;36m<module>\u001b[0;34m\u001b[0m\n\u001b[0;32m----> 1\u001b[0;31m \u001b[0mjson\u001b[0m\u001b[0;34m.\u001b[0m\u001b[0mdumps\u001b[0m\u001b[0;34m(\u001b[0m\u001b[0;34m)\u001b[0m\u001b[0;34m\u001b[0m\u001b[0;34m\u001b[0m\u001b[0m\n\u001b[0m",
      "\u001b[0;31mNameError\u001b[0m: name 'json' is not defined"
     ]
    }
   ],
   "source": [
    "json.dumps()"
   ]
  },
  {
   "cell_type": "code",
   "execution_count": 30,
   "id": "1345f5b6",
   "metadata": {},
   "outputs": [
    {
     "data": {
      "text/plain": [
       "dict_keys(['numFound', 'start', 'docs'])"
      ]
     },
     "execution_count": 30,
     "metadata": {},
     "output_type": "execute_result"
    }
   ],
   "source": [
    "r.json()['response'].keys()"
   ]
  },
  {
   "cell_type": "code",
   "execution_count": 35,
   "id": "097c892a",
   "metadata": {},
   "outputs": [
    {
     "data": {
      "text/plain": [
       "dict_keys(['response', 'nextCursorMark'])"
      ]
     },
     "execution_count": 35,
     "metadata": {},
     "output_type": "execute_result"
    }
   ],
   "source": [
    "r.json().keys()"
   ]
  },
  {
   "cell_type": "code",
   "execution_count": 49,
   "id": "ad7b0557",
   "metadata": {},
   "outputs": [
    {
     "data": {
      "text/plain": [
       "160"
      ]
     },
     "execution_count": 49,
     "metadata": {},
     "output_type": "execute_result"
    }
   ],
   "source": [
    "r.json()['response']['numFound']"
   ]
  },
  {
   "cell_type": "code",
   "execution_count": 54,
   "id": "3957fba0",
   "metadata": {},
   "outputs": [
    {
     "data": {
      "text/plain": [
       "'AoFQrnI='"
      ]
     },
     "execution_count": 54,
     "metadata": {},
     "output_type": "execute_result"
    }
   ],
   "source": [
    "r.json()['nextCursorMark']"
   ]
  },
  {
   "cell_type": "code",
   "execution_count": null,
   "id": "02a5c7c1",
   "metadata": {},
   "outputs": [],
   "source": []
  }
 ],
 "metadata": {
  "kernelspec": {
   "display_name": "Python 3",
   "language": "python",
   "name": "python3"
  },
  "language_info": {
   "codemirror_mode": {
    "name": "ipython",
    "version": 3
   },
   "file_extension": ".py",
   "mimetype": "text/x-python",
   "name": "python",
   "nbconvert_exporter": "python",
   "pygments_lexer": "ipython3",
   "version": "3.9.1"
  }
 },
 "nbformat": 4,
 "nbformat_minor": 5
}
