{
 "cells": [
  {
   "cell_type": "code",
   "execution_count": 77,
   "id": "fd46ad3a",
   "metadata": {},
   "outputs": [],
   "source": [
    "import requests\n",
    "from urllib.parse import quote_plus"
   ]
  },
  {
   "cell_type": "code",
   "execution_count": null,
   "id": "5cde00fd",
   "metadata": {},
   "outputs": [],
   "source": [
    "year = 2000\n",
    "nb_rows = 100\n",
    "cursor='*'\n",
    "data = []\n",
    "while True:\n",
    "    url = f'https://api.archives-ouvertes.fr/search/?q=*:*&wt=json&fl=*&fq=submittedDateY_i:[{year}%20TO%20{year}]&sort=docid asc&rows={nb_rows}&cursorMark={cursor}'\n",
    "    r = requests.get(url)\n",
    "    res = r.json()\n",
    "    new_cursor = quote_plus(res['nextCursorMark'])\n",
    "    data += res['response']['docs']\n",
    "    if new_cursor == cursor:\n",
    "        break\n",
    "    cursor = new_cursor"
   ]
  },
  {
   "cell_type": "code",
   "execution_count": 83,
   "id": "53d07165",
   "metadata": {},
   "outputs": [
    {
     "data": {
      "text/plain": [
       "1675"
      ]
     },
     "execution_count": 83,
     "metadata": {},
     "output_type": "execute_result"
    }
   ],
   "source": [
    "len(data)"
   ]
  },
  {
   "cell_type": "code",
   "execution_count": 66,
   "id": "6353259d",
   "metadata": {},
   "outputs": [
    {
     "data": {
      "text/plain": [
       "{'error': {'metadata': ['error-class',\n",
       "   'org.apache.solr.common.SolrException',\n",
       "   'root-error-class',\n",
       "   'java.lang.IllegalArgumentException'],\n",
       "  'msg': \"Unable to parse 'cursorMark' after totem: value must either be '*' or the 'nextCursorMark' returned by a previous search: AoFa12c\",\n",
       "  'code': 400}}"
      ]
     },
     "execution_count": 66,
     "metadata": {},
     "output_type": "execute_result"
    }
   ],
   "source": [
    "r.json()"
   ]
  },
  {
   "cell_type": "code",
   "execution_count": 62,
   "id": "a83e23c4",
   "metadata": {},
   "outputs": [
    {
     "data": {
      "text/plain": [
       "'https://api.archives-ouvertes.fr/search/?q=*:*&wt=json&fl=*&fq=submittedDateY_i:[1950%20TO%201950]&sort=docid asc&rows=1&cursorMark=AoFQrnI='"
      ]
     },
     "execution_count": 62,
     "metadata": {},
     "output_type": "execute_result"
    }
   ],
   "source": [
    "url"
   ]
  },
  {
   "cell_type": "code",
   "execution_count": 30,
   "id": "31dfec4b",
   "metadata": {},
   "outputs": [
    {
     "data": {
      "text/plain": [
       "dict_keys(['numFound', 'start', 'docs'])"
      ]
     },
     "execution_count": 30,
     "metadata": {},
     "output_type": "execute_result"
    }
   ],
   "source": [
    "r.json()['response'].keys()"
   ]
  },
  {
   "cell_type": "code",
   "execution_count": 35,
   "id": "fa429c97",
   "metadata": {},
   "outputs": [
    {
     "data": {
      "text/plain": [
       "dict_keys(['response', 'nextCursorMark'])"
      ]
     },
     "execution_count": 35,
     "metadata": {},
     "output_type": "execute_result"
    }
   ],
   "source": [
    "r.json().keys()"
   ]
  },
  {
   "cell_type": "code",
   "execution_count": 49,
   "id": "8f368b0a",
   "metadata": {},
   "outputs": [
    {
     "data": {
      "text/plain": [
       "160"
      ]
     },
     "execution_count": 49,
     "metadata": {},
     "output_type": "execute_result"
    }
   ],
   "source": [
    "r.json()['response']['numFound']"
   ]
  },
  {
   "cell_type": "code",
   "execution_count": 54,
   "id": "295c75e3",
   "metadata": {},
   "outputs": [
    {
     "data": {
      "text/plain": [
       "'AoFQrnI='"
      ]
     },
     "execution_count": 54,
     "metadata": {},
     "output_type": "execute_result"
    }
   ],
   "source": [
    "r.json()['nextCursorMark']"
   ]
  },
  {
   "cell_type": "code",
   "execution_count": null,
   "id": "58daec78",
   "metadata": {},
   "outputs": [],
   "source": []
  }
 ],
 "metadata": {
  "kernelspec": {
   "display_name": "Python 3",
   "language": "python",
   "name": "python3"
  },
  "language_info": {
   "codemirror_mode": {
    "name": "ipython",
    "version": 3
   },
   "file_extension": ".py",
   "mimetype": "text/x-python",
   "name": "python",
   "nbconvert_exporter": "python",
   "pygments_lexer": "ipython3",
   "version": "3.9.1"
  }
 },
 "nbformat": 4,
 "nbformat_minor": 5
}
